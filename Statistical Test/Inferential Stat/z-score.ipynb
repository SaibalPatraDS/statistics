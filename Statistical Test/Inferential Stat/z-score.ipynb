{
 "cells": [
  {
   "cell_type": "markdown",
   "id": "4ef121bc",
   "metadata": {},
   "source": [
    "**Question 1 :  The average or mean is 3.1 hours and the standard deviation is 0.5. Find the percentage of less than 3.5 hours.**"
   ]
  },
  {
   "cell_type": "markdown",
   "id": "0a5720de",
   "metadata": {},
   "source": [
    "Hint -\n",
    "\n",
    "#### z = (x - x')/o \n",
    "\n",
    "\n",
    "where, x = sample points\n",
    "       x' = sample mean\n",
    "       o = sample variation"
   ]
  },
  {
   "cell_type": "code",
   "execution_count": 4,
   "id": "a0b62174",
   "metadata": {},
   "outputs": [],
   "source": [
    "## importing necessary libraries\n",
    "\n",
    "import pandas as pd \n",
    "import numpy as np \n",
    "from scipy import stats"
   ]
  },
  {
   "cell_type": "code",
   "execution_count": 3,
   "id": "17877085",
   "metadata": {},
   "outputs": [
    {
     "data": {
      "text/plain": [
       "0.7999999999999998"
      ]
     },
     "execution_count": 3,
     "metadata": {},
     "output_type": "execute_result"
    }
   ],
   "source": [
    "## calculating z score\n",
    "\n",
    "mean_ = 3.1 \n",
    "stddev_ = 0.5 \n",
    "\n",
    "z_score = (3.5 - mean_)/stddev_\n",
    "\n",
    "z_score"
   ]
  },
  {
   "cell_type": "code",
   "execution_count": 6,
   "id": "96113361",
   "metadata": {},
   "outputs": [
    {
     "data": {
      "text/plain": [
       "0.7881446014166033"
      ]
     },
     "execution_count": 6,
     "metadata": {},
     "output_type": "execute_result"
    }
   ],
   "source": [
    "## calculating area\n",
    "\n",
    "stats.norm.cdf(z_score)  # norm - normal distribution\n",
    "                         # cdf - cumulative distribution function"
   ]
  },
  {
   "cell_type": "markdown",
   "id": "d838798f",
   "metadata": {},
   "source": [
    "### Conclusion - \n",
    "**78.81% percentage of area is under 3.5 hours.**"
   ]
  },
  {
   "cell_type": "raw",
   "id": "8e19a09e",
   "metadata": {},
   "source": []
  },
  {
   "cell_type": "markdown",
   "id": "60edde7f",
   "metadata": {},
   "source": [
    "**Question 2 : The average or mean is 28 lb and the standard deviation is 2 lb. Find the percentage btw 27 lb and 31 lb.**"
   ]
  },
  {
   "cell_type": "markdown",
   "id": "9ba2bb8b",
   "metadata": {},
   "source": [
    "**Hint -** \n",
    "\n",
    "calculate z1 for 27 lb and z2 at the value of 31 lb. And the area between them will be the answer. "
   ]
  },
  {
   "cell_type": "code",
   "execution_count": 7,
   "id": "f2d55d1c",
   "metadata": {},
   "outputs": [],
   "source": [
    "mean_ = 28 \n",
    "stddev_ = 2 \n",
    "\n",
    "sample1 = 27 \n",
    "sample2 = 31"
   ]
  },
  {
   "cell_type": "code",
   "execution_count": 8,
   "id": "a19e4355",
   "metadata": {},
   "outputs": [],
   "source": [
    "z_score1 = (sample1 - mean_)/stddev_\n",
    "z_score2 = (sample2 - mean_)/stddev_"
   ]
  },
  {
   "cell_type": "code",
   "execution_count": 9,
   "id": "879c50db",
   "metadata": {},
   "outputs": [
    {
     "data": {
      "text/plain": [
       "(-0.5, 1.5)"
      ]
     },
     "execution_count": 9,
     "metadata": {},
     "output_type": "execute_result"
    }
   ],
   "source": [
    "z_score1, z_score2"
   ]
  },
  {
   "cell_type": "code",
   "execution_count": 10,
   "id": "06e62437",
   "metadata": {},
   "outputs": [
    {
     "data": {
      "text/plain": [
       "0.624655260005155"
      ]
     },
     "execution_count": 10,
     "metadata": {},
     "output_type": "execute_result"
    }
   ],
   "source": [
    "## calculating underline area\n",
    "\n",
    "area_percent = stats.norm.cdf(z_score2) - stats.norm.cdf(z_score1)\n",
    "area_percent"
   ]
  },
  {
   "cell_type": "markdown",
   "id": "c0696752",
   "metadata": {},
   "source": [
    "### Conclusion - \n",
    "**62.47% percentage of area is between 27 lb and 31 lb.**"
   ]
  },
  {
   "cell_type": "raw",
   "id": "824cf9b7",
   "metadata": {},
   "source": []
  },
  {
   "cell_type": "markdown",
   "id": "216475b5",
   "metadata": {},
   "source": [
    "**Question 3 : In top 10%, the mean is 200 and the standard deviation is 20. Find the lowest possible score to qualify.**"
   ]
  },
  {
   "cell_type": "markdown",
   "id": "48d8460d",
   "metadata": {},
   "source": [
    "**Hint -**\n",
    "\n",
    "Our confidence interval is given and that is 10% or 0.10. And the mean of the sample is 200 and standard deviation is 20. \n",
    "\n",
    "So, **sample_point, x = z_score * standard_deviation + mean**\n",
    "and this sample_point will be minimum value/ min score to qualify."
   ]
  },
  {
   "cell_type": "code",
   "execution_count": 12,
   "id": "a4db9d95",
   "metadata": {},
   "outputs": [
    {
     "data": {
      "text/plain": [
       "1.2815515655446004"
      ]
     },
     "execution_count": 12,
     "metadata": {},
     "output_type": "execute_result"
    }
   ],
   "source": [
    "mean_ = 200 \n",
    "stddev_ = 20 \n",
    "\n",
    "z_score_ = stats.norm.ppf(0.90) # ppf - probability point function\n",
    "\n",
    "'''The Probability Point Function or PPF is the inverse of the CDF. \n",
    "Specifically, the PPF returns the exact point where the probability of everything to the left is equal to y .'''\n",
    "z_score_"
   ]
  },
  {
   "cell_type": "code",
   "execution_count": 14,
   "id": "f9094db9",
   "metadata": {},
   "outputs": [
    {
     "data": {
      "text/plain": [
       "225.631031310892"
      ]
     },
     "execution_count": 14,
     "metadata": {},
     "output_type": "execute_result"
    }
   ],
   "source": [
    "## calculating the terminal point\n",
    "\n",
    "sample_point = z_score_ * stddev_ + mean_\n",
    "sample_point"
   ]
  },
  {
   "cell_type": "markdown",
   "id": "a0ad72bc",
   "metadata": {},
   "source": [
    "### Conclusion - \n",
    "**Lowest possible score is 226 or the student has to score 226 to be in top 10%**"
   ]
  },
  {
   "cell_type": "raw",
   "id": "d6de9ed2",
   "metadata": {},
   "source": []
  },
  {
   "cell_type": "markdown",
   "id": "346652ff",
   "metadata": {},
   "source": [
    "**Question 4 : To select the middle 60% of the population, the mean is 120 and the standard deviation is 8. Find the upper and lower values.**"
   ]
  },
  {
   "cell_type": "markdown",
   "id": "79813ed0",
   "metadata": {},
   "source": [
    "**Hint -**\n",
    "\n",
    "Simple calculation, we have to select the middle 60% means there will be 20% to the left and 20% to the right of the selected region. We have find z_score for 20% or 0.20 confidence and z_score for 80% or 0.80 confidence intervel. \n",
    "\n",
    "**z_score_20 = stats.norm.ppf(0.20)  // z_score for ist 20%**\n",
    "\n",
    "**z_score_80 = stats.norm.ppf(0.80)  // z_score for 80%**\n",
    "\n",
    "And next formula we will be using, **sample_point = z_score * standard_deviation + mean**\n"
   ]
  },
  {
   "cell_type": "code",
   "execution_count": 15,
   "id": "b518c913",
   "metadata": {},
   "outputs": [
    {
     "data": {
      "text/plain": [
       "(-0.8416212335729142, 0.8416212335729143)"
      ]
     },
     "execution_count": 15,
     "metadata": {},
     "output_type": "execute_result"
    }
   ],
   "source": [
    "mean_ = 120\n",
    "stddev_ = 8\n",
    "\n",
    "z_score_20 = stats.norm.ppf(0.20)\n",
    "z_score_80 = stats.norm.ppf(0.80)\n",
    "\n",
    "z_score_20, z_score_80"
   ]
  },
  {
   "cell_type": "code",
   "execution_count": 16,
   "id": "0aba2e7a",
   "metadata": {},
   "outputs": [
    {
     "data": {
      "text/plain": [
       "(113.26703013141669, 126.73296986858331)"
      ]
     },
     "execution_count": 16,
     "metadata": {},
     "output_type": "execute_result"
    }
   ],
   "source": [
    "## calculating lower and upper value of the range\n",
    "\n",
    "lower_val = (z_score_20 * stddev_) + mean_\n",
    "upper_val = (z_score_80 * stddev_) + mean_\n",
    "\n",
    "lower_val, upper_val"
   ]
  },
  {
   "cell_type": "code",
   "execution_count": 18,
   "id": "60001bb2",
   "metadata": {},
   "outputs": [
    {
     "name": "stdout",
     "output_type": "stream",
     "text": [
      "Range of values for selecting 60% only 113.26703013141669 < X < 126.73296986858331\n"
     ]
    }
   ],
   "source": [
    "print(\"Range of values for selecting 60% only\", lower_val, \"< X <\", upper_val)"
   ]
  },
  {
   "cell_type": "markdown",
   "id": "a9525a8e",
   "metadata": {},
   "source": [
    "### Conclusion - \n",
    "\n",
    "**To select the middle 60%, lower limit will be 113.267 and upper limit will be 126.7329**\n",
    "\n",
    "**(113.26703013141669 < X < 126.73296986858331)"
   ]
  },
  {
   "cell_type": "code",
   "execution_count": null,
   "id": "b1c271a1",
   "metadata": {},
   "outputs": [],
   "source": []
  },
  {
   "cell_type": "code",
   "execution_count": null,
   "id": "99dedcf7",
   "metadata": {},
   "outputs": [],
   "source": []
  },
  {
   "cell_type": "code",
   "execution_count": null,
   "id": "6e906a26",
   "metadata": {},
   "outputs": [],
   "source": []
  },
  {
   "cell_type": "code",
   "execution_count": null,
   "id": "4eebee39",
   "metadata": {},
   "outputs": [],
   "source": []
  },
  {
   "cell_type": "code",
   "execution_count": null,
   "id": "14546132",
   "metadata": {},
   "outputs": [],
   "source": []
  }
 ],
 "metadata": {
  "kernelspec": {
   "display_name": "Python 3 (ipykernel)",
   "language": "python",
   "name": "python3"
  },
  "language_info": {
   "codemirror_mode": {
    "name": "ipython",
    "version": 3
   },
   "file_extension": ".py",
   "mimetype": "text/x-python",
   "name": "python",
   "nbconvert_exporter": "python",
   "pygments_lexer": "ipython3",
   "version": "3.9.13"
  }
 },
 "nbformat": 4,
 "nbformat_minor": 5
}
